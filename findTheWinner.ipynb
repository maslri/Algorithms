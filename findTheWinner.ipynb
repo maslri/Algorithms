{
 "cells": [
  {
   "cell_type": "markdown",
   "metadata": {},
   "source": [
    "#### [1823. Find the Winner of the Circular Game](https://leetcode.com/problems/find-the-winner-of-the-circular-game/description/)"
   ]
  },
  {
   "cell_type": "code",
   "execution_count": 17,
   "metadata": {},
   "outputs": [],
   "source": [
    "class Solution:\n",
    "    def findTheWinner(self, n: int, k: int) -> int:\n",
    "        l: list = list(range(1, n + 1))\n",
    "        while len(l) > 1:\n",
    "            l = l[k % len(l):] + l[:k % len(l)]\n",
    "            l.pop()\n",
    "        return l[0]\n",
    "    \n",
    "    def findTheWinner2(self, n: int, k: int) -> int:\n",
    "        if n == 1:\n",
    "            return 1\n",
    "        else:\n",
    "            return (self.findTheWinner2(n-1, k)+k-1) % n + 1"
   ]
  },
  {
   "cell_type": "code",
   "execution_count": 18,
   "metadata": {},
   "outputs": [
    {
     "name": "stdout",
     "output_type": "stream",
     "text": [
      "1\n"
     ]
    }
   ],
   "source": [
    "solution_instance = Solution()\n",
    "# print(solution_instance.findTheWinner2(5, 2))\n",
    "print(solution_instance.findTheWinner2(6, 5))"
   ]
  }
 ],
 "metadata": {
  "kernelspec": {
   "display_name": "Python 3",
   "language": "python",
   "name": "python3"
  },
  "language_info": {
   "codemirror_mode": {
    "name": "ipython",
    "version": 3
   },
   "file_extension": ".py",
   "mimetype": "text/x-python",
   "name": "python",
   "nbconvert_exporter": "python",
   "pygments_lexer": "ipython3",
   "version": "3.11.3"
  }
 },
 "nbformat": 4,
 "nbformat_minor": 2
}
