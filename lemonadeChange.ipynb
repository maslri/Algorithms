{
 "cells": [
  {
   "attachments": {},
   "cell_type": "markdown",
   "metadata": {},
   "source": [
    "### 860. Lemonade Change"
   ]
  },
  {
   "attachments": {},
   "cell_type": "markdown",
   "metadata": {},
   "source": [
    "##### https://leetcode.com/problems/lemonade-change/description/"
   ]
  },
  {
   "cell_type": "code",
   "execution_count": 3,
   "metadata": {},
   "outputs": [],
   "source": [
    "from typing import List"
   ]
  },
  {
   "cell_type": "code",
   "execution_count": 13,
   "metadata": {},
   "outputs": [],
   "source": [
    "class Solution:\n",
    "    def lemonadeChange(self, bills: List[int]) -> bool:\n",
    "        lemonade_price = 5\n",
    "        coffer = { lemonade_price : 0, 2*lemonade_price : 0, 4*lemonade_price : 0}\n",
    "        for bill in bills :\n",
    "            coffer[bill] += 1\n",
    "            if bill == lemonade_price :\n",
    "                continue\n",
    "            change = bill - lemonade_price\n",
    "            if change == lemonade_price :\n",
    "                coffer[lemonade_price] -= 1\n",
    "            else :\n",
    "                if coffer[2*lemonade_price] > 0 :\n",
    "                    coffer[2*lemonade_price] -= 1\n",
    "                    coffer[lemonade_price] -= 1\n",
    "                else :\n",
    "                    coffer[lemonade_price] -= 3   \n",
    "            if coffer[lemonade_price] < 0 :\n",
    "                return False\n",
    "        return True\n"
   ]
  },
  {
   "cell_type": "code",
   "execution_count": 14,
   "metadata": {},
   "outputs": [
    {
     "name": "stdout",
     "output_type": "stream",
     "text": [
      "False\n"
     ]
    }
   ],
   "source": [
    "solution = Solution()\n",
    "print(solution.lemonadeChange([5,5,5,10,5,5,10,20,20,20]))"
   ]
  }
 ],
 "metadata": {
  "kernelspec": {
   "display_name": "Python 3",
   "language": "python",
   "name": "python3"
  },
  "language_info": {
   "codemirror_mode": {
    "name": "ipython",
    "version": 3
   },
   "file_extension": ".py",
   "mimetype": "text/x-python",
   "name": "python",
   "nbconvert_exporter": "python",
   "pygments_lexer": "ipython3",
   "version": "3.11.3"
  },
  "orig_nbformat": 4
 },
 "nbformat": 4,
 "nbformat_minor": 2
}
