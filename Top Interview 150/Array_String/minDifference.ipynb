{
 "cells": [
  {
   "cell_type": "markdown",
   "metadata": {},
   "source": [
    "#### [1509. Minimum Difference Between Largest and Smallest Value in Three Moves](https://leetcode.com/problems/minimum-difference-between-largest-and-smallest-value-in-three-moves/description/)"
   ]
  },
  {
   "cell_type": "code",
   "execution_count": 1,
   "metadata": {},
   "outputs": [],
   "source": [
    "from typing import List\n",
    "import numpy as np\n",
    "import math"
   ]
  },
  {
   "cell_type": "code",
   "execution_count": 6,
   "metadata": {},
   "outputs": [],
   "source": [
    "class Solution:\n",
    "    def minDifference(self, nums: List[int]) -> int:\n",
    "        if len(nums) <= 4 :\n",
    "            return 0\n",
    "        result: List = []\n",
    "        \n",
    "        sample_variance = math.sqrt(np.var(nums, ddof=1))\n",
    "        print(sample_variance)\n",
    "        sorted_list = sorted(nums, key=lambda x: abs(x - sample_variance))\n",
    "        print(sorted_list)\n",
    "        \n",
    "        result = sorted_list[:-3]\n",
    "\n",
    "        return max(result) - min(result)\n",
    "        \n",
    "    def minDifference2(self, nums: List[int]) -> int:\n",
    "        n = len(nums)\n",
    "        if n <= 4:\n",
    "            return 0\n",
    "\n",
    "        # Sort the array\n",
    "        nums.sort()\n",
    "\n",
    "        # Evaluate the minimum difference possible with at most 3 moves\n",
    "        min_diff = min(\n",
    "            nums[n-1] - nums[3],      # Change 3 smallest elements\n",
    "            nums[n-2] - nums[2],      # Change 2 smallest and 1 largest element\n",
    "            nums[n-3] - nums[1],      # Change 1 smallest and 2 largest elements\n",
    "            nums[n-4] - nums[0]       # Change 3 largest elements\n",
    "        )\n",
    "\n",
    "        return min_diff"
   ]
  },
  {
   "cell_type": "code",
   "execution_count": 7,
   "metadata": {},
   "outputs": [
    {
     "name": "stdout",
     "output_type": "stream",
     "text": [
      "2\n"
     ]
    }
   ],
   "source": [
    "solution_instance = Solution()\n",
    "print(solution_instance.minDifference2([1,2,20,21,22,50]))"
   ]
  },
  {
   "cell_type": "code",
   "execution_count": null,
   "metadata": {},
   "outputs": [],
   "source": []
  }
 ],
 "metadata": {
  "kernelspec": {
   "display_name": "Python 3",
   "language": "python",
   "name": "python3"
  },
  "language_info": {
   "codemirror_mode": {
    "name": "ipython",
    "version": 3
   },
   "file_extension": ".py",
   "mimetype": "text/x-python",
   "name": "python",
   "nbconvert_exporter": "python",
   "pygments_lexer": "ipython3",
   "version": "3.11.3"
  }
 },
 "nbformat": 4,
 "nbformat_minor": 2
}
