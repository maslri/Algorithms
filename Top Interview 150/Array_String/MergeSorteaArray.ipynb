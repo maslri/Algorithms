{
 "cells": [
  {
   "cell_type": "markdown",
   "metadata": {},
   "source": [
    "#### [88. Merge Sorted Array](https://leetcode.com/problems/merge-sorted-array/description/?envType=study-plan-v2&envId=top-interview-150)"
   ]
  },
  {
   "cell_type": "code",
   "execution_count": 1,
   "metadata": {},
   "outputs": [],
   "source": [
    "from typing import List"
   ]
  },
  {
   "cell_type": "code",
   "execution_count": 7,
   "metadata": {},
   "outputs": [],
   "source": [
    "class Solution:\n",
    "    def merge(self, nums1: List[int], m: int, nums2: List[int], n: int) -> None:\n",
    "        if m == 1:\n",
    "            pass\n",
    "        if m == 0:\n",
    "            nums1 = nums2\n",
    "            pass\n",
    "        nums1 = nums1[:-n]\n",
    "        nums1 = nums1 + nums2\n",
    "        nums1.sort()\n",
    "        return nums1\n",
    "    \n",
    "    def merge(self, nums1: List[int], m: int, nums2: List[int], n: int) -> None:\n",
    "        if n == 0 :return\n",
    "        len1 = len(nums1)\n",
    "        end_idx = len1-1\n",
    "        while n > 0 and m > 0 :\n",
    "            if nums2[n-1] >= nums1[m-1]:\n",
    "                nums1[end_idx] = nums2[n-1]\n",
    "                n-=1\n",
    "            else:\n",
    "                nums1[end_idx] = nums1[m-1]\n",
    "                m-=1\n",
    "            end_idx-=1\n",
    "        while n > 0:\n",
    "            nums1[end_idx] = nums2[n-1]\n",
    "            n-=1\n",
    "            end_idx-=1\n",
    "        return nums1"
   ]
  },
  {
   "cell_type": "code",
   "execution_count": 8,
   "metadata": {},
   "outputs": [
    {
     "name": "stdout",
     "output_type": "stream",
     "text": [
      "[1, 2, 2, 3, 5, 6]\n",
      "[1]\n"
     ]
    }
   ],
   "source": [
    "solution_instance = Solution()\n",
    "print(solution_instance.merge([1,2,3,0,0,0], 3, [2,5,6], 3))\n",
    "print(solution_instance.merge([0], 0, [1], 1))"
   ]
  },
  {
   "cell_type": "code",
   "execution_count": null,
   "metadata": {},
   "outputs": [],
   "source": [
    "num1 = [1,2,3,0,0,0]\n",
    "num1 = num1[:-3]"
   ]
  }
 ],
 "metadata": {
  "kernelspec": {
   "display_name": "Python 3",
   "language": "python",
   "name": "python3"
  },
  "language_info": {
   "codemirror_mode": {
    "name": "ipython",
    "version": 3
   },
   "file_extension": ".py",
   "mimetype": "text/x-python",
   "name": "python",
   "nbconvert_exporter": "python",
   "pygments_lexer": "ipython3",
   "version": "3.11.3"
  }
 },
 "nbformat": 4,
 "nbformat_minor": 2
}
