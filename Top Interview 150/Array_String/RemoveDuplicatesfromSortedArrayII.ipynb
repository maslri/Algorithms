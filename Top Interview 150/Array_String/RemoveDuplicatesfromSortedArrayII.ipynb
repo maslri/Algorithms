{
 "cells": [
  {
   "cell_type": "markdown",
   "metadata": {},
   "source": [
    "#### [80. Remove Duplicates from Sorted Array II](https://leetcode.com/problems/remove-duplicates-from-sorted-array-ii/description/?envType=study-plan-v2&envId=top-interview-150)"
   ]
  },
  {
   "cell_type": "code",
   "execution_count": 1,
   "metadata": {},
   "outputs": [],
   "source": [
    "from typing import List"
   ]
  },
  {
   "cell_type": "code",
   "execution_count": 26,
   "metadata": {},
   "outputs": [],
   "source": [
    "class Solution:\n",
    "    def removeDuplicates(self, nums: List[int]) :\n",
    "        if len(nums) <= 2:\n",
    "            return len(nums)\n",
    "        # Initialize the pointer for the next unique element position\n",
    "        i = 2\n",
    "        for j in range(2, len(nums)):\n",
    "            if nums[j] != nums[i - 2]:\n",
    "                nums[i] = nums[j]\n",
    "                i += 1\n",
    "        return i, nums"
   ]
  },
  {
   "cell_type": "code",
   "execution_count": 28,
   "metadata": {},
   "outputs": [
    {
     "name": "stdout",
     "output_type": "stream",
     "text": [
      "(7, [0, 0, 1, 1, 2, 3, 3, 3, 3])\n"
     ]
    }
   ],
   "source": [
    "solution_instance = Solution()\n",
    "#print(solution_instance.removeDuplicates([1,1,1,2,2,3]))\n",
    "print(solution_instance.removeDuplicates([0,0,1,1,1,1,2,3,3]))"
   ]
  }
 ],
 "metadata": {
  "kernelspec": {
   "display_name": "Python 3",
   "language": "python",
   "name": "python3"
  },
  "language_info": {
   "codemirror_mode": {
    "name": "ipython",
    "version": 3
   },
   "file_extension": ".py",
   "mimetype": "text/x-python",
   "name": "python",
   "nbconvert_exporter": "python",
   "pygments_lexer": "ipython3",
   "version": "3.11.3"
  }
 },
 "nbformat": 4,
 "nbformat_minor": 2
}
