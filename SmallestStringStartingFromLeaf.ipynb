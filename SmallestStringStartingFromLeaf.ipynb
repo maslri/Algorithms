{
 "cells": [
  {
   "attachments": {},
   "cell_type": "markdown",
   "metadata": {},
   "source": [
    "### 988. Smallest String Starting From Leaf"
   ]
  },
  {
   "attachments": {},
   "cell_type": "markdown",
   "metadata": {},
   "source": [
    "##### https://leetcode.com/problems/smallest-string-starting-from-leaf/description/?envType=daily-question&envId=2024-04-17"
   ]
  },
  {
   "cell_type": "code",
   "execution_count": 1,
   "metadata": {},
   "outputs": [],
   "source": [
    "from typing import Optional"
   ]
  },
  {
   "cell_type": "code",
   "execution_count": 2,
   "metadata": {},
   "outputs": [],
   "source": [
    "# Definition for a binary tree node.\n",
    "class TreeNode:\n",
    "    def __init__(self, val=0, left=None, right=None):\n",
    "        self.val = val\n",
    "        self.left = left\n",
    "        self.right = right\n",
    "\n",
    "    def populate_tree(nodes):\n",
    "        if not nodes:\n",
    "            return None\n",
    "        root = TreeNode(nodes[0])\n",
    "        queue = [root]\n",
    "        i = 1\n",
    "        while i < len(nodes):\n",
    "            current = queue.pop(0)\n",
    "            if nodes[i] is not None:\n",
    "                current.left = TreeNode(nodes[i])\n",
    "                queue.append(current.left)\n",
    "            i += 1\n",
    "            if i < len(nodes) and nodes[i] is not None:\n",
    "                current.right = TreeNode(nodes[i])\n",
    "                queue.append(current.right)\n",
    "            i += 1\n",
    "        return root\n",
    "    \n",
    "    def print_tree(root, level=0, prefix=\"Root: \", is_left=None):\n",
    "        if root is not None:\n",
    "            print(\" \" * (level * 4) + prefix, end=\"\")\n",
    "            print((\"|-- \" if is_left else \"\\\\-- \") + str(root.val))\n",
    "            TreeNode.print_tree(root.left, level + 1, \"L-- \", True)\n",
    "            TreeNode.print_tree(root.right, level + 1, \"R-- \", False)"
   ]
  },
  {
   "cell_type": "code",
   "execution_count": 3,
   "metadata": {},
   "outputs": [],
   "source": [
    "class Solution:\n",
    "    def smallestFromLeaf(self, root: Optional[TreeNode]) -> str:\n",
    "        self.smallest_string = \"\"\n",
    "        self.dfs(root, \"\")\n",
    "        return self.smallest_string\n",
    "    \n",
    "    def dfs(self, root, current_string):\n",
    "        # If the current node is NULL, return\n",
    "        if not root:\n",
    "            return\n",
    "        # Construct the current string by appending \n",
    "        # the character corresponding to the node's value\n",
    "        current_string = chr(root.val + ord('a')) + current_string\n",
    "        # If the current node is a leaf node\n",
    "        if not root.left and not root.right:\n",
    "            # If the current string is smaller than the result \n",
    "            # or if the result is empty\n",
    "            if not self.smallest_string or self.smallest_string > current_string:\n",
    "                self.smallest_string = current_string\n",
    "        # Recursively traverse the left subtree\n",
    "        if root.left:\n",
    "            self.dfs(root.left, current_string)\n",
    "        # Recursively traverse the right subtree\n",
    "        if root.right:\n",
    "            self.dfs(root.right, current_string)"
   ]
  },
  {
   "cell_type": "code",
   "execution_count": 12,
   "metadata": {},
   "outputs": [
    {
     "name": "stdout",
     "output_type": "stream",
     "text": [
      "Root: \\-- 0\n",
      "    L-- |-- 1\n",
      "        L-- |-- 3\n",
      "        R-- \\-- 4\n",
      "    R-- \\-- 2\n",
      "        L-- |-- 3\n",
      "        R-- \\-- 4\n",
      "dba\n"
     ]
    }
   ],
   "source": [
    "nodes1 = [0,1,2,3,4,3,4]\n",
    "root1 = TreeNode.populate_tree(nodes1)\n",
    "TreeNode.print_tree(root1)\n",
    "rr = Solution()\n",
    "print(rr.smallestFromLeaf(root1))"
   ]
  },
  {
   "cell_type": "code",
   "execution_count": 11,
   "metadata": {},
   "outputs": [
    {
     "name": "stdout",
     "output_type": "stream",
     "text": [
      "Root: \\-- 25\n",
      "    L-- |-- 1\n",
      "        L-- |-- 1\n",
      "        R-- \\-- 3\n",
      "    R-- \\-- 3\n",
      "        L-- |-- 0\n",
      "        R-- \\-- 2\n",
      "adz\n"
     ]
    }
   ],
   "source": [
    "nodes2 = [25,1,3,1,3,0,2]\n",
    "root2 = TreeNode.populate_tree(nodes2)\n",
    "TreeNode.print_tree(root2)\n",
    "print(rr.smallestFromLeaf(root2))"
   ]
  },
  {
   "cell_type": "code",
   "execution_count": 10,
   "metadata": {},
   "outputs": [
    {
     "name": "stdout",
     "output_type": "stream",
     "text": [
      "Root: \\-- 2\n",
      "    L-- |-- 2\n",
      "        R-- \\-- 1\n",
      "            L-- |-- 0\n",
      "    R-- \\-- 1\n",
      "        L-- |-- 0\n",
      "abc\n"
     ]
    }
   ],
   "source": [
    "nodes3 = [2,2,1,None,1,0,None,0]\n",
    "root3 = TreeNode.populate_tree(nodes3)\n",
    "TreeNode.print_tree(root3)\n",
    "print(rr.smallestFromLeaf(root3))"
   ]
  }
 ],
 "metadata": {
  "kernelspec": {
   "display_name": "Python 3",
   "language": "python",
   "name": "python3"
  },
  "language_info": {
   "codemirror_mode": {
    "name": "ipython",
    "version": 3
   },
   "file_extension": ".py",
   "mimetype": "text/x-python",
   "name": "python",
   "nbconvert_exporter": "python",
   "pygments_lexer": "ipython3",
   "version": "3.11.3"
  },
  "orig_nbformat": 4
 },
 "nbformat": 4,
 "nbformat_minor": 2
}
