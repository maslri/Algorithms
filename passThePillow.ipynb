{
 "cells": [
  {
   "cell_type": "markdown",
   "metadata": {},
   "source": [
    "#### [2582. Pass the Pillow](https://leetcode.com/problems/pass-the-pillow/description/)"
   ]
  },
  {
   "cell_type": "code",
   "execution_count": 2,
   "metadata": {},
   "outputs": [],
   "source": [
    "from typing import List"
   ]
  },
  {
   "cell_type": "code",
   "execution_count": 16,
   "metadata": {},
   "outputs": [],
   "source": [
    "class Solution:\n",
    "    def passThePillow(self, n: int, time: int) -> int:\n",
    "        l: list = list(range(1, n + 1)) + list(range(n - 1, 1, -1))\n",
    "        index: int = time % (2 * (n - 1))\n",
    "        return l[index]\n",
    "    def passThePillow2(self, n: int, time: int) -> int:\n",
    "        cycle_length = 2 * (n - 1)\n",
    "        time = time % cycle_length\n",
    "        if time < n:\n",
    "            return time + 1\n",
    "        else:\n",
    "            return 2 * n - time - 1\n"
   ]
  },
  {
   "cell_type": "code",
   "execution_count": 19,
   "metadata": {},
   "outputs": [
    {
     "name": "stdout",
     "output_type": "stream",
     "text": [
      "3\n",
      "3\n"
     ]
    }
   ],
   "source": [
    "solution_instance = Solution()\n",
    "print(solution_instance.passThePillow(9, 30))\n",
    "print(solution_instance.passThePillow(3, 2))"
   ]
  },
  {
   "cell_type": "code",
   "execution_count": null,
   "metadata": {},
   "outputs": [],
   "source": []
  }
 ],
 "metadata": {
  "kernelspec": {
   "display_name": "Python 3",
   "language": "python",
   "name": "python3"
  },
  "language_info": {
   "codemirror_mode": {
    "name": "ipython",
    "version": 3
   },
   "file_extension": ".py",
   "mimetype": "text/x-python",
   "name": "python",
   "nbconvert_exporter": "python",
   "pygments_lexer": "ipython3",
   "version": "3.11.3"
  }
 },
 "nbformat": 4,
 "nbformat_minor": 2
}
