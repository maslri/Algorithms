{
 "cells": [
  {
   "cell_type": "markdown",
   "metadata": {},
   "source": [
    "### 1514. Path with Maximum Probability"
   ]
  },
  {
   "cell_type": "markdown",
   "metadata": {},
   "source": [
    "##### https://leetcode.com/problems/path-with-maximum-probability/description/"
   ]
  },
  {
   "cell_type": "code",
   "execution_count": 5,
   "metadata": {},
   "outputs": [],
   "source": [
    "from typing import List\n",
    "\n",
    "import heapq\n",
    "from collections import defaultdict"
   ]
  },
  {
   "cell_type": "code",
   "execution_count": 6,
   "metadata": {},
   "outputs": [],
   "source": [
    "class Solution:\n",
    "    def maxProbability(self, n: int, edges: List[List[int]], succProb: List[float], start_node: int, end_node: int) -> float:\n",
    "        # Create the graph\n",
    "        graph = defaultdict(list)\n",
    "        for i, (a, b) in enumerate(edges):\n",
    "            graph[a].append((b, succProb[i]))\n",
    "            graph[b].append((a, succProb[i]))\n",
    "\n",
    "        # Max-heap priority queue: (negative probability, node)\n",
    "        pq = [(-1, start_node)]\n",
    "        # To store the maximum probability to reach each node\n",
    "        prob = [0] * n\n",
    "        prob[start_node] = 1\n",
    "\n",
    "        while pq:\n",
    "            curr_prob, node = heapq.heappop(pq)\n",
    "            curr_prob = -curr_prob\n",
    "            \n",
    "            if node == end_node:\n",
    "                return curr_prob\n",
    "            \n",
    "            for neighbor, edge_prob in graph[node]:\n",
    "                new_prob = curr_prob * edge_prob\n",
    "                if new_prob > prob[neighbor]:\n",
    "                    prob[neighbor] = new_prob\n",
    "                    heapq.heappush(pq, (-new_prob, neighbor))\n",
    "\n",
    "        return 0"
   ]
  },
  {
   "cell_type": "code",
   "execution_count": 7,
   "metadata": {},
   "outputs": [
    {
     "name": "stdout",
     "output_type": "stream",
     "text": [
      "0.25\n",
      "0.3\n",
      "0\n"
     ]
    }
   ],
   "source": [
    "solution = Solution()\n",
    "print(solution.maxProbability(3, [[0,1],[1,2],[0,2]], [0.5,0.5,0.2], 0, 2))\n",
    "print(solution.maxProbability(3, [[0,1],[1,2],[0,2]], [0.5,0.5,0.3], 0, 2))\n",
    "print(solution.maxProbability(3, [[0,1]], [0.5], 0, 2))"
   ]
  },
  {
   "cell_type": "code",
   "execution_count": null,
   "metadata": {},
   "outputs": [],
   "source": []
  }
 ],
 "metadata": {
  "kernelspec": {
   "display_name": "Python 3",
   "language": "python",
   "name": "python3"
  },
  "language_info": {
   "codemirror_mode": {
    "name": "ipython",
    "version": 3
   },
   "file_extension": ".py",
   "mimetype": "text/x-python",
   "name": "python",
   "nbconvert_exporter": "python",
   "pygments_lexer": "ipython3",
   "version": "3.11.3"
  }
 },
 "nbformat": 4,
 "nbformat_minor": 2
}
