{
 "cells": [
  {
   "attachments": {},
   "cell_type": "markdown",
   "metadata": {},
   "source": [
    "### https://leetcode.com/problems/palindromic-substrings/"
   ]
  },
  {
   "attachments": {},
   "cell_type": "markdown",
   "metadata": {},
   "source": [
    "#### 647. Palindromic Substrings"
   ]
  },
  {
   "cell_type": "code",
   "execution_count": 1,
   "metadata": {},
   "outputs": [],
   "source": [
    "class Solution:\n",
    "    \n",
    "    count = 0\n",
    "\n",
    "    def countSubstrings(self, s) -> int:\n",
    "        # Iterate through each character in the string as a potential center\n",
    "        for i in range(len(s)):\n",
    "            # Case 1: Palindromes with odd length, single character center\n",
    "            self.expand_center(i, i, s)\n",
    "            \n",
    "            # Case 2: Palindromes with even length, center between two characters\n",
    "            self.expand_center(i, i + 1, s)\n",
    "        \n",
    "        return self.count\n",
    "    \n",
    "    # Recursive function to expand around the center\n",
    "    def expand_center(self, left, right, s):\n",
    "        while left >= 0 and right < len(s) and s[left] == s[right]:\n",
    "            self.count += 1\n",
    "            left -= 1\n",
    "            right += 1\n",
    "\n"
   ]
  },
  {
   "cell_type": "code",
   "execution_count": 2,
   "metadata": {},
   "outputs": [],
   "source": [
    "sol = Solution()\n",
    "\n",
    "s1 = \"abc\" # out = 3\n",
    "\n",
    "s2 = \"aaa\" # out = 6"
   ]
  },
  {
   "cell_type": "code",
   "execution_count": 3,
   "metadata": {},
   "outputs": [
    {
     "name": "stdout",
     "output_type": "stream",
     "text": [
      "3\n",
      "9\n"
     ]
    }
   ],
   "source": [
    "print(sol.countSubstrings(s1))\n",
    "\n",
    "print(sol.countSubstrings(s2))"
   ]
  },
  {
   "cell_type": "code",
   "execution_count": null,
   "metadata": {},
   "outputs": [],
   "source": []
  }
 ],
 "metadata": {
  "kernelspec": {
   "display_name": "Python 3",
   "language": "python",
   "name": "python3"
  },
  "language_info": {
   "codemirror_mode": {
    "name": "ipython",
    "version": 3
   },
   "file_extension": ".py",
   "mimetype": "text/x-python",
   "name": "python",
   "nbconvert_exporter": "python",
   "pygments_lexer": "ipython3",
   "version": "3.11.3"
  },
  "orig_nbformat": 4
 },
 "nbformat": 4,
 "nbformat_minor": 2
}
