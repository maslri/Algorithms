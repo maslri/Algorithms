{
 "cells": [
  {
   "cell_type": "markdown",
   "metadata": {},
   "source": [
    "#### [1701. Average Waiting Time](https://leetcode.com/problems/average-waiting-time/description/)"
   ]
  },
  {
   "cell_type": "code",
   "execution_count": 28,
   "metadata": {},
   "outputs": [],
   "source": [
    "from typing import List\n",
    "from decimal import Decimal\n",
    "\n",
    "class Solution:\n",
    "    def averageWaitingTime(self, customers: List[List[int]]) -> float:\n",
    "        sum: int = 0\n",
    "        wait_time: int = customers[0][0]\n",
    "        for cust in customers :\n",
    "            wait_time = max(wait_time, cust[0]) + cust[1]\n",
    "            sum += wait_time - cust[0]\n",
    "        return (Decimal(sum) / Decimal(len(customers))).quantize(Decimal('0.00001'))\n",
    "        # return Decimal(sum / len(customers)).quantize(0.00001)"
   ]
  },
  {
   "cell_type": "code",
   "execution_count": 29,
   "metadata": {},
   "outputs": [
    {
     "name": "stdout",
     "output_type": "stream",
     "text": [
      "3.25000\n",
      "1.50000\n",
      "4.00000\n",
      "2.00000\n",
      "2.00000\n",
      "2.00000\n"
     ]
    }
   ],
   "source": [
    "solution_instance = Solution()\n",
    "# Test the function\n",
    "# print(solution_instance.averageWaitingTime([[1,2],[2,5],[4,3]])) # Expected output: 5.000000000000001\n",
    "print(solution_instance.averageWaitingTime([[5,2],[5,4],[10,3],[20,1]])) # Expected output: 3.25000\n",
    "print(solution_instance.averageWaitingTime([[10,2],[20,1]])) # Expected output: 11.000000000000001\n",
    "print(solution_instance.averageWaitingTime([[2,3],[5,5]])) # Expected output: 3.5000000000000004\n",
    "print(solution_instance.averageWaitingTime([[1,2]])) # Expected output: 1.5000000000000002\n",
    "print(solution_instance.averageWaitingTime([[1,2],[2,1]])) # Expected output: 1.5000000000000002\n",
    "print(solution_instance.averageWaitingTime([[1,2]])) # Expected output: 1.5000000000000002"
   ]
  }
 ],
 "metadata": {
  "kernelspec": {
   "display_name": "Python 3",
   "language": "python",
   "name": "python3"
  },
  "language_info": {
   "codemirror_mode": {
    "name": "ipython",
    "version": 3
   },
   "file_extension": ".py",
   "mimetype": "text/x-python",
   "name": "python",
   "nbconvert_exporter": "python",
   "pygments_lexer": "ipython3",
   "version": "3.11.3"
  }
 },
 "nbformat": 4,
 "nbformat_minor": 2
}
