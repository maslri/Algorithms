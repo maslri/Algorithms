{
 "cells": [
  {
   "attachments": {},
   "cell_type": "markdown",
   "metadata": {},
   "source": [
    "### 624. Maximum Distance in Arrays"
   ]
  },
  {
   "attachments": {},
   "cell_type": "markdown",
   "metadata": {},
   "source": [
    "##### https://leetcode.com/problems/maximum-distance-in-arrays/description/"
   ]
  },
  {
   "cell_type": "code",
   "execution_count": 1,
   "metadata": {},
   "outputs": [],
   "source": [
    "from typing import List"
   ]
  },
  {
   "cell_type": "code",
   "execution_count": 29,
   "metadata": {},
   "outputs": [],
   "source": [
    "class Solution:\n",
    "    def maxDistance(self, arrays: List[List[int]]) -> int:\n",
    "        # Initialize values\n",
    "        min_value = arrays[0][0]\n",
    "        max_value = arrays[0][-1]\n",
    "        max_distance = 0\n",
    "        \n",
    "        # Iterate through arrays starting from the second one\n",
    "        for i in range(1, len(arrays)):\n",
    "            # Calculate distance using the min and max from different arrays\n",
    "            max_distance = max(max_distance, abs(arrays[i][-1] - min_value), abs(max_value - arrays[i][0]))\n",
    "            \n",
    "            # Update the min and max values\n",
    "            min_value = min(min_value, arrays[i][0])\n",
    "            max_value = max(max_value, arrays[i][-1])\n",
    "        \n",
    "        return max_distance\n"
   ]
  },
  {
   "cell_type": "code",
   "execution_count": 30,
   "metadata": {},
   "outputs": [
    {
     "name": "stdout",
     "output_type": "stream",
     "text": [
      "4\n"
     ]
    }
   ],
   "source": [
    "solution = Solution()\n",
    "print(solution.maxDistance([[1,4],[0,5]]))"
   ]
  }
 ],
 "metadata": {
  "kernelspec": {
   "display_name": "Python 3",
   "language": "python",
   "name": "python3"
  },
  "language_info": {
   "codemirror_mode": {
    "name": "ipython",
    "version": 3
   },
   "file_extension": ".py",
   "mimetype": "text/x-python",
   "name": "python",
   "nbconvert_exporter": "python",
   "pygments_lexer": "ipython3",
   "version": "3.11.3"
  },
  "orig_nbformat": 4
 },
 "nbformat": 4,
 "nbformat_minor": 2
}
