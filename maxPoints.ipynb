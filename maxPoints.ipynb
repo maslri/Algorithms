{
 "cells": [
  {
   "attachments": {},
   "cell_type": "markdown",
   "metadata": {},
   "source": [
    "### 1937. Maximum Number of Points with Cost"
   ]
  },
  {
   "attachments": {},
   "cell_type": "markdown",
   "metadata": {},
   "source": [
    "##### https://leetcode.com/problems/maximum-number-of-points-with-cost/description/"
   ]
  },
  {
   "cell_type": "code",
   "execution_count": 1,
   "metadata": {},
   "outputs": [],
   "source": [
    "from typing import List"
   ]
  },
  {
   "cell_type": "code",
   "execution_count": 61,
   "metadata": {},
   "outputs": [],
   "source": [
    "class Solution:\n",
    "    def maxPoints(self, points: List[List[int]]) -> int:\n",
    "        \n",
    "        maximize : int = 0\n",
    "        subtract  : int = 0\n",
    "        previous_max_col : int = 0\n",
    "\n",
    "        for i, point in enumerate(points):\n",
    "            max_col, max_value = max(\n",
    "                enumerate(point),\n",
    "                key=lambda x: (x[1], -abs(x[0] - previous_max_col))\n",
    "            )\n",
    "            maximize += max_value\n",
    "            if i != 0 :\n",
    "                subtract += abs(previous_max_col - max_col)\n",
    "            previous_max_col = max_col\n",
    "        return maximize - subtract\n",
    "\n",
    "    def maxPoints2(self, points: List[List[int]]) -> int:\n",
    "        if not points or not points[0]:\n",
    "            return 0\n",
    "        \n",
    "        n = len(points[0])\n",
    "        dp = points[0][:]  # Initialize the dp array with the first row values\n",
    "\n",
    "        for i in range(1, len(points)):\n",
    "            left_max = [0] * n\n",
    "            right_max = [0] * n\n",
    "\n",
    "            # Fill left_max array\n",
    "            left_max[0] = dp[0]\n",
    "            for j in range(1, n):\n",
    "                left_max[j] = max(left_max[j-1] - 1, dp[j])\n",
    "\n",
    "            # Fill right_max array\n",
    "            right_max[-1] = dp[-1]\n",
    "            for j in range(n-2, -1, -1):\n",
    "                right_max[j] = max(right_max[j+1] - 1, dp[j])\n",
    "\n",
    "            # Update dp array for the current row\n",
    "            for j in range(n):\n",
    "                dp[j] = points[i][j] + max(left_max[j], right_max[j])\n",
    "\n",
    "        return max(dp)  # The maximum score in the last row        "
   ]
  },
  {
   "cell_type": "code",
   "execution_count": 62,
   "metadata": {},
   "outputs": [
    {
     "name": "stdout",
     "output_type": "stream",
     "text": [
      "15\n"
     ]
    }
   ],
   "source": [
    "solution = Solution()\n",
    "print(solution.maxPoints([[0,3,0,4,2],[5,4,2,4,1],[5,0,0,5,1],[2,0,1,0,3]]))"
   ]
  }
 ],
 "metadata": {
  "kernelspec": {
   "display_name": "Python 3",
   "language": "python",
   "name": "python3"
  },
  "language_info": {
   "codemirror_mode": {
    "name": "ipython",
    "version": 3
   },
   "file_extension": ".py",
   "mimetype": "text/x-python",
   "name": "python",
   "nbconvert_exporter": "python",
   "pygments_lexer": "ipython3",
   "version": "3.11.3"
  },
  "orig_nbformat": 4
 },
 "nbformat": 4,
 "nbformat_minor": 2
}
